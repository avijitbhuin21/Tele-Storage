{
 "cells": [
  {
   "cell_type": "code",
   "execution_count": 21,
   "metadata": {},
   "outputs": [],
   "source": [
    "from helper_files.utils import Telegram_Credentials\n",
    "\n",
    "bot = Telegram_Credentials()\n",
    "phone = \"+918927977932\"\n",
    "\n",
    "hash = bot.get_My_Telegram_org_login_otp(phone)\n",
    "print(hash)\n",
    "#8993ef0680376f6e07\n",
    "\n",
    "res = bot.confirm_otp(random_hash = hash, phone = phone, otp = input())\n",
    "print(res)\n",
    "#Invalid confirmation code!\n"
   ]
  },
  {
   "cell_type": "code",
   "execution_count": null,
   "metadata": {},
   "outputs": [],
   "source": []
  }
 ],
 "metadata": {
  "kernelspec": {
   "display_name": ".venv",
   "language": "python",
   "name": "python3"
  },
  "language_info": {
   "codemirror_mode": {
    "name": "ipython",
    "version": 3
   },
   "file_extension": ".py",
   "mimetype": "text/x-python",
   "name": "python",
   "nbconvert_exporter": "python",
   "pygments_lexer": "ipython3",
   "version": "3.11.10"
  }
 },
 "nbformat": 4,
 "nbformat_minor": 2
}

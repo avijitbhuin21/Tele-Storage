{
 "cells": [
  {
   "cell_type": "code",
   "execution_count": null,
   "metadata": {},
   "outputs": [],
   "source": [
    "from helper_files.utils import Telegram_Credentials\n",
    "\n",
    "bot = Telegram_Credentials()\n",
    "phone = \"+918927977932\"\n",
    "\n",
    "hash = bot.get_My_Telegram_org_login_otp(phone)\n",
    "print(hash)\n",
    "#8993ef0680376f6e07\n",
    "\n",
    "res = bot.confirm_My_Telegram_org_otp(otp = input())\n",
    "print(res)\n",
    "#Invalid confirmation code!\n",
    "\n",
    "data = bot.handle_extraction()\n",
    "print(data)"
   ]
  },
  {
   "cell_type": "code",
   "execution_count": 2,
   "metadata": {},
   "outputs": [
    {
     "data": {
      "text/plain": [
       "{'id': '26281938',\n",
       " 'hash': '81fa7af911a8c8335317ac54cb6c4e9f',\n",
       " 'number': '+919064292887',\n",
       " 'string_session': '1BVtsOMQBu5MfOjr5-x3SdZYHVXrcsq6q7tSgIvqo4abbG6NOsmkwsnVzQ4Th57LaQt9Bi2ahJveJW6Cm5CNtQHVkVOpoQ20ntIrn4IULkPcPDO94LmDfCwNzNkp2-AgX10rXcJAhibkSxDMItTj3F4J1A9JnYKA9rDKFEejIabNOsinmf8HXHFfRBfXfLcTr__TaQ_K05GqhrTYSM3f2lvOOFx2P1_z9Uify6WBgwn8_2Y8uA1fE0XcZW0mHdHcnEN8N0iAlwVMpwr5j-4oKD_xAndqql13sUAj7X7KWZERTXnHdHDXyGaRcOOTvdMu_7xQEbkSC2ivH6jAoed-MMtoq1hK_IzI='}"
      ]
     },
     "execution_count": 2,
     "metadata": {},
     "output_type": "execute_result"
    }
   ],
   "source": [
    "import json\n",
    "\n",
    "x = json.loads(open('demo_details.json').read())\n",
    "x"
   ]
  },
  {
   "cell_type": "code",
   "execution_count": 1,
   "metadata": {},
   "outputs": [
    {
     "name": "stdout",
     "output_type": "stream",
     "text": [
      "Signed in successfully as Black; remember to not break the ToS or you will risk an account ban!\n",
      "Your session string is: 1BVtsOHsBu3TBJhc86_kU1zB6wPlJIqkyvQNLbvWv56f1EtYhWy3FNlg-06x3SKyYLv5YGUUCrEHEzlYZcyV2J6Xb_XX_vV2cyE20LRO1G0cO4mUa5hD2yq3cssBPZeVj9l7r1yhIztoNJyAnOpbbfsFaj0fX9gMptoy_Nc9zSuHpx5tTd8CBqOflGyMOqkdrjRVGmPgcudyYnR8MzK4s2UNM72_R5NMgRli8FpZPuLPX9l4ObkbDNdJV6rbOzyqcbYjWM17KfLFfv9xwWVkAqNwGY4jj6hTDPQd-GQLnd7wMR8kN_4al8bWti3M4T_ykKKmKSvbkhZsm8MMj746PeFTJXn-E6Jo=\n"
     ]
    }
   ],
   "source": [
    "from telethon.sync import TelegramClient\n",
    "from telethon.sessions import StringSession\n",
    "import nest_asyncio\n",
    "\n",
    "nest_asyncio.apply()\n",
    "\n",
    "API_ID = '26281938'  # Replace with your API ID\n",
    "API_HASH = '81fa7af911a8c8335317ac54cb6c4e9f'  # Replace with your API Hash\n",
    "PHONE_NUMBER = '+919064292887'  # Replace with the user's phone number\n",
    "\n",
    "async def get_session_string():\n",
    "    async with TelegramClient(StringSession(), API_ID, API_HASH) as client:\n",
    "        await client.connect()\n",
    "        if not await client.is_user_authorized():\n",
    "            await client.send_code_request(PHONE_NUMBER)\n",
    "            # Here you would need a way to programmatically get the code/password\n",
    "            # For demonstration purposes, let's assume functions to retrieve them:\n",
    "            code = input()\n",
    "            # code = input(\"Please enter the code you received: \")  # Or get it from user input\n",
    "            try:\n",
    "                await client.sign_in(PHONE_NUMBER, code)\n",
    "            except telethon.errors.SessionPasswordNeededError:\n",
    "                password = input()\n",
    "                # password = input(\"Please enter your 2FA password: \")  # Or get it from user input\n",
    "                await client.sign_in(password=password)\n",
    "\n",
    "        print(\"Your session string is:\", client.session.save())\n",
    "\n",
    "\n",
    "import asyncio\n",
    "asyncio.run(get_session_string())"
   ]
  },
  {
   "cell_type": "code",
   "execution_count": 4,
   "metadata": {},
   "outputs": [
    {
     "name": "stdout",
     "output_type": "stream",
     "text": [
      "c10d5502a9e8bbafa3\n"
     ]
    },
    {
     "data": {
      "text/plain": [
       "'c10d5502a9e8bbafa3'"
      ]
     },
     "execution_count": 4,
     "metadata": {},
     "output_type": "execute_result"
    }
   ],
   "source": [
    "async def login_otp_first_half(client = TelegramClient(StringSession(), API_ID, API_HASH),number = '+919064292887'):\n",
    "    await client.connect()\n",
    "    if not await client.is_user_authorized():\n",
    "        phone_code_hash=await client.send_code_request(phone=number)\n",
    "        phone_code_hash=phone_code_hash.phone_code_hash\n",
    "        print(phone_code_hash)\n",
    "        return phone_code_hash\n",
    "    else:\n",
    "        print(\"autherized\")\n",
    "\n",
    "asyncio.run(login_otp_first_half())"
   ]
  },
  {
   "cell_type": "code",
   "execution_count": null,
   "metadata": {},
   "outputs": [],
   "source": [
    "user side -> ({\"phone\": str, \"hash\": str or None, \"id\": str or None, \"string_session\": str or None, \"purpose\": str('id_hash_retriver' / 'login_otp')}) -> server\n",
    "\n",
    "server -> ({\"status\": str('id_hash_retriver' / 'login_otp') }) -> user side \n",
    "\n",
    "    - if status == 'id_hash_retriver':\n",
    "        user side -> ({\"phone\": str, \"otp\": str , \"purpose\": str('id_hash_retriver')}) -> server\n",
    "        server -> ({\"status\": str('id_hash_retriver'), \"id\": str or None, \"hash\": str or None, \"number\": str or None, \"string_session\": str or None}) -> user side -> set_cokie\n",
    "\n",
    "    - if status == 'login_otp':\n",
    "        user side -> ({\"phone\": str, \"otp\": str , \"purpose\": str('login_otp')}) -> server\n",
    "        server -> ({\"status\": str('login_otp'), \"id\": str or None, \"hash\": str or None, \"number\": str or None, \"string_session\": str or None}) -> user side -> update_cookie\n",
    "        "
   ]
  },
  {
   "cell_type": "code",
   "execution_count": null,
   "metadata": {},
   "outputs": [],
   "source": [
    "#https://picsum.photos/1920/1080"
   ]
  }
 ],
 "metadata": {
  "kernelspec": {
   "display_name": ".venv",
   "language": "python",
   "name": "python3"
  },
  "language_info": {
   "codemirror_mode": {
    "name": "ipython",
    "version": 3
   },
   "file_extension": ".py",
   "mimetype": "text/x-python",
   "name": "python",
   "nbconvert_exporter": "python",
   "pygments_lexer": "ipython3",
   "version": "3.11.10"
  }
 },
 "nbformat": 4,
 "nbformat_minor": 2
}

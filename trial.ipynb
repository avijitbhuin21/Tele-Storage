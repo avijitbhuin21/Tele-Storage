{
 "cells": [
  {
   "cell_type": "code",
   "execution_count": 2,
   "metadata": {},
   "outputs": [
    {
     "name": "stdout",
     "output_type": "stream",
     "text": [
      "8993ef0680376f6e07\n"
     ]
    }
   ],
   "source": [
    "from helper_files.utils import Telegram_Credentials\n",
    "\n",
    "bot = Telegram_Credentials()\n",
    "phone = \"+9196425895\"\n",
    "\n",
    "hash = bot.get_My_Telegram_org_login_otp(phone)\n",
    "\n",
    "print(hash)"
   ]
  },
  {
   "cell_type": "code",
   "execution_count": 3,
   "metadata": {},
   "outputs": [
    {
     "name": "stdout",
     "output_type": "stream",
     "text": [
      "Invalid confirmation code!\n"
     ]
    }
   ],
   "source": [
    "res = bot.confirm_otp(random_hash = hash, phone = phone, otp = input())\n",
    "\n",
    "print(res)"
   ]
  },
  {
   "cell_type": "code",
   "execution_count": null,
   "metadata": {},
   "outputs": [],
   "source": []
  }
 ],
 "metadata": {
  "kernelspec": {
   "display_name": ".venv",
   "language": "python",
   "name": "python3"
  },
  "language_info": {
   "codemirror_mode": {
    "name": "ipython",
    "version": 3
   },
   "file_extension": ".py",
   "mimetype": "text/x-python",
   "name": "python",
   "nbconvert_exporter": "python",
   "pygments_lexer": "ipython3",
   "version": "3.11.10"
  }
 },
 "nbformat": 4,
 "nbformat_minor": 2
}
